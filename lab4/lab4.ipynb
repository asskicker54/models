{
 "cells": [
  {
   "cell_type": "code",
   "execution_count": 6,
   "metadata": {},
   "outputs": [],
   "source": [
    "import pandas as pd\n",
    "import numpy as np"
   ]
  },
  {
   "cell_type": "markdown",
   "metadata": {},
   "source": [
    "1. Загрузите данные из файла в объект DataFrame, Добавьте заголовки к\n",
    "столбцам: «index», «year», «month», «day», «min_t», «average_t», «max_t»,\n",
    "«rainfall»."
   ]
  },
  {
   "cell_type": "code",
   "execution_count": 30,
   "metadata": {},
   "outputs": [
    {
     "data": {
      "text/html": [
       "<div>\n",
       "<style scoped>\n",
       "    .dataframe tbody tr th:only-of-type {\n",
       "        vertical-align: middle;\n",
       "    }\n",
       "\n",
       "    .dataframe tbody tr th {\n",
       "        vertical-align: top;\n",
       "    }\n",
       "\n",
       "    .dataframe thead th {\n",
       "        text-align: right;\n",
       "    }\n",
       "</style>\n",
       "<table border=\"1\" class=\"dataframe\">\n",
       "  <thead>\n",
       "    <tr style=\"text-align: right;\">\n",
       "      <th></th>\n",
       "      <th>year</th>\n",
       "      <th>month</th>\n",
       "      <th>day</th>\n",
       "      <th>min_t</th>\n",
       "      <th>average_t</th>\n",
       "      <th>max_t</th>\n",
       "      <th>rainfall</th>\n",
       "    </tr>\n",
       "    <tr>\n",
       "      <th>index</th>\n",
       "      <th></th>\n",
       "      <th></th>\n",
       "      <th></th>\n",
       "      <th></th>\n",
       "      <th></th>\n",
       "      <th></th>\n",
       "      <th></th>\n",
       "    </tr>\n",
       "  </thead>\n",
       "  <tbody>\n",
       "    <tr>\n",
       "      <th>29838</th>\n",
       "      <td>1960</td>\n",
       "      <td>1</td>\n",
       "      <td>1</td>\n",
       "      <td>-6.9</td>\n",
       "      <td>-5.4</td>\n",
       "      <td>-3.8</td>\n",
       "      <td>0.1</td>\n",
       "    </tr>\n",
       "    <tr>\n",
       "      <th>29838</th>\n",
       "      <td>1960</td>\n",
       "      <td>1</td>\n",
       "      <td>2</td>\n",
       "      <td>-14.4</td>\n",
       "      <td>-10.0</td>\n",
       "      <td>-6.7</td>\n",
       "      <td>0.5</td>\n",
       "    </tr>\n",
       "    <tr>\n",
       "      <th>29838</th>\n",
       "      <td>1960</td>\n",
       "      <td>1</td>\n",
       "      <td>3</td>\n",
       "      <td>-21.7</td>\n",
       "      <td>-19.7</td>\n",
       "      <td>-13.4</td>\n",
       "      <td>0.0</td>\n",
       "    </tr>\n",
       "    <tr>\n",
       "      <th>29838</th>\n",
       "      <td>1960</td>\n",
       "      <td>1</td>\n",
       "      <td>4</td>\n",
       "      <td>-24.9</td>\n",
       "      <td>-21.4</td>\n",
       "      <td>-16.9</td>\n",
       "      <td>0.0</td>\n",
       "    </tr>\n",
       "    <tr>\n",
       "      <th>29838</th>\n",
       "      <td>1960</td>\n",
       "      <td>1</td>\n",
       "      <td>5</td>\n",
       "      <td>-18.3</td>\n",
       "      <td>-8.0</td>\n",
       "      <td>-3.3</td>\n",
       "      <td>4.1</td>\n",
       "    </tr>\n",
       "    <tr>\n",
       "      <th>...</th>\n",
       "      <td>...</td>\n",
       "      <td>...</td>\n",
       "      <td>...</td>\n",
       "      <td>...</td>\n",
       "      <td>...</td>\n",
       "      <td>...</td>\n",
       "      <td>...</td>\n",
       "    </tr>\n",
       "    <tr>\n",
       "      <th>29838</th>\n",
       "      <td>2020</td>\n",
       "      <td>12</td>\n",
       "      <td>27</td>\n",
       "      <td>-41.7</td>\n",
       "      <td>-36.3</td>\n",
       "      <td>-32.8</td>\n",
       "      <td>0.0</td>\n",
       "    </tr>\n",
       "    <tr>\n",
       "      <th>29838</th>\n",
       "      <td>2020</td>\n",
       "      <td>12</td>\n",
       "      <td>28</td>\n",
       "      <td>-40.1</td>\n",
       "      <td>-34.2</td>\n",
       "      <td>-25.5</td>\n",
       "      <td>0.0</td>\n",
       "    </tr>\n",
       "    <tr>\n",
       "      <th>29838</th>\n",
       "      <td>2020</td>\n",
       "      <td>12</td>\n",
       "      <td>29</td>\n",
       "      <td>-28.2</td>\n",
       "      <td>-23.9</td>\n",
       "      <td>-18.6</td>\n",
       "      <td>0.0</td>\n",
       "    </tr>\n",
       "    <tr>\n",
       "      <th>29838</th>\n",
       "      <td>2020</td>\n",
       "      <td>12</td>\n",
       "      <td>30</td>\n",
       "      <td>-21.8</td>\n",
       "      <td>-13.6</td>\n",
       "      <td>-9.9</td>\n",
       "      <td>0.8</td>\n",
       "    </tr>\n",
       "    <tr>\n",
       "      <th>29838</th>\n",
       "      <td>2020</td>\n",
       "      <td>12</td>\n",
       "      <td>31</td>\n",
       "      <td>-23.2</td>\n",
       "      <td>-19.0</td>\n",
       "      <td>-10.0</td>\n",
       "      <td>1.4</td>\n",
       "    </tr>\n",
       "  </tbody>\n",
       "</table>\n",
       "<p>22281 rows × 7 columns</p>\n",
       "</div>"
      ],
      "text/plain": [
       "       year  month  day  min_t  average_t  max_t  rainfall\n",
       "index                                                     \n",
       "29838  1960      1    1   -6.9       -5.4   -3.8       0.1\n",
       "29838  1960      1    2  -14.4      -10.0   -6.7       0.5\n",
       "29838  1960      1    3  -21.7      -19.7  -13.4       0.0\n",
       "29838  1960      1    4  -24.9      -21.4  -16.9       0.0\n",
       "29838  1960      1    5  -18.3       -8.0   -3.3       4.1\n",
       "...     ...    ...  ...    ...        ...    ...       ...\n",
       "29838  2020     12   27  -41.7      -36.3  -32.8       0.0\n",
       "29838  2020     12   28  -40.1      -34.2  -25.5       0.0\n",
       "29838  2020     12   29  -28.2      -23.9  -18.6       0.0\n",
       "29838  2020     12   30  -21.8      -13.6   -9.9       0.8\n",
       "29838  2020     12   31  -23.2      -19.0  -10.0       1.4\n",
       "\n",
       "[22281 rows x 7 columns]"
      ]
     },
     "execution_count": 30,
     "metadata": {},
     "output_type": "execute_result"
    }
   ],
   "source": [
    "df = pd.read_table('wr88125.txt', sep=';', index_col='index', names=['index', 'year', 'month', 'day', 'min_t', 'average_t', 'max_t', 'rainfall'])\n",
    "df.max_t = pd.to_numeric(df.max_t, errors='coerce')\n",
    "df.min_t = pd.to_numeric(df.min_t, errors='coerce')\n",
    "df.average_t = pd.to_numeric(df.average_t, errors='coerce')\n",
    "df.rainfall = pd.to_numeric(df.rainfall, errors='coerce')\n",
    "df"
   ]
  },
  {
   "cell_type": "markdown",
   "metadata": {},
   "source": [
    "2. Удалите столбец index."
   ]
  },
  {
   "cell_type": "code",
   "execution_count": 31,
   "metadata": {},
   "outputs": [
    {
     "data": {
      "text/html": [
       "<div>\n",
       "<style scoped>\n",
       "    .dataframe tbody tr th:only-of-type {\n",
       "        vertical-align: middle;\n",
       "    }\n",
       "\n",
       "    .dataframe tbody tr th {\n",
       "        vertical-align: top;\n",
       "    }\n",
       "\n",
       "    .dataframe thead th {\n",
       "        text-align: right;\n",
       "    }\n",
       "</style>\n",
       "<table border=\"1\" class=\"dataframe\">\n",
       "  <thead>\n",
       "    <tr style=\"text-align: right;\">\n",
       "      <th></th>\n",
       "      <th>year</th>\n",
       "      <th>month</th>\n",
       "      <th>day</th>\n",
       "      <th>min_t</th>\n",
       "      <th>average_t</th>\n",
       "      <th>max_t</th>\n",
       "      <th>rainfall</th>\n",
       "    </tr>\n",
       "  </thead>\n",
       "  <tbody>\n",
       "    <tr>\n",
       "      <th>0</th>\n",
       "      <td>1960</td>\n",
       "      <td>1</td>\n",
       "      <td>1</td>\n",
       "      <td>-6.9</td>\n",
       "      <td>-5.4</td>\n",
       "      <td>-3.8</td>\n",
       "      <td>0.1</td>\n",
       "    </tr>\n",
       "    <tr>\n",
       "      <th>1</th>\n",
       "      <td>1960</td>\n",
       "      <td>1</td>\n",
       "      <td>2</td>\n",
       "      <td>-14.4</td>\n",
       "      <td>-10.0</td>\n",
       "      <td>-6.7</td>\n",
       "      <td>0.5</td>\n",
       "    </tr>\n",
       "    <tr>\n",
       "      <th>2</th>\n",
       "      <td>1960</td>\n",
       "      <td>1</td>\n",
       "      <td>3</td>\n",
       "      <td>-21.7</td>\n",
       "      <td>-19.7</td>\n",
       "      <td>-13.4</td>\n",
       "      <td>0.0</td>\n",
       "    </tr>\n",
       "    <tr>\n",
       "      <th>3</th>\n",
       "      <td>1960</td>\n",
       "      <td>1</td>\n",
       "      <td>4</td>\n",
       "      <td>-24.9</td>\n",
       "      <td>-21.4</td>\n",
       "      <td>-16.9</td>\n",
       "      <td>0.0</td>\n",
       "    </tr>\n",
       "    <tr>\n",
       "      <th>4</th>\n",
       "      <td>1960</td>\n",
       "      <td>1</td>\n",
       "      <td>5</td>\n",
       "      <td>-18.3</td>\n",
       "      <td>-8.0</td>\n",
       "      <td>-3.3</td>\n",
       "      <td>4.1</td>\n",
       "    </tr>\n",
       "    <tr>\n",
       "      <th>...</th>\n",
       "      <td>...</td>\n",
       "      <td>...</td>\n",
       "      <td>...</td>\n",
       "      <td>...</td>\n",
       "      <td>...</td>\n",
       "      <td>...</td>\n",
       "      <td>...</td>\n",
       "    </tr>\n",
       "    <tr>\n",
       "      <th>22276</th>\n",
       "      <td>2020</td>\n",
       "      <td>12</td>\n",
       "      <td>27</td>\n",
       "      <td>-41.7</td>\n",
       "      <td>-36.3</td>\n",
       "      <td>-32.8</td>\n",
       "      <td>0.0</td>\n",
       "    </tr>\n",
       "    <tr>\n",
       "      <th>22277</th>\n",
       "      <td>2020</td>\n",
       "      <td>12</td>\n",
       "      <td>28</td>\n",
       "      <td>-40.1</td>\n",
       "      <td>-34.2</td>\n",
       "      <td>-25.5</td>\n",
       "      <td>0.0</td>\n",
       "    </tr>\n",
       "    <tr>\n",
       "      <th>22278</th>\n",
       "      <td>2020</td>\n",
       "      <td>12</td>\n",
       "      <td>29</td>\n",
       "      <td>-28.2</td>\n",
       "      <td>-23.9</td>\n",
       "      <td>-18.6</td>\n",
       "      <td>0.0</td>\n",
       "    </tr>\n",
       "    <tr>\n",
       "      <th>22279</th>\n",
       "      <td>2020</td>\n",
       "      <td>12</td>\n",
       "      <td>30</td>\n",
       "      <td>-21.8</td>\n",
       "      <td>-13.6</td>\n",
       "      <td>-9.9</td>\n",
       "      <td>0.8</td>\n",
       "    </tr>\n",
       "    <tr>\n",
       "      <th>22280</th>\n",
       "      <td>2020</td>\n",
       "      <td>12</td>\n",
       "      <td>31</td>\n",
       "      <td>-23.2</td>\n",
       "      <td>-19.0</td>\n",
       "      <td>-10.0</td>\n",
       "      <td>1.4</td>\n",
       "    </tr>\n",
       "  </tbody>\n",
       "</table>\n",
       "<p>22281 rows × 7 columns</p>\n",
       "</div>"
      ],
      "text/plain": [
       "       year  month  day  min_t  average_t  max_t  rainfall\n",
       "0      1960      1    1   -6.9       -5.4   -3.8       0.1\n",
       "1      1960      1    2  -14.4      -10.0   -6.7       0.5\n",
       "2      1960      1    3  -21.7      -19.7  -13.4       0.0\n",
       "3      1960      1    4  -24.9      -21.4  -16.9       0.0\n",
       "4      1960      1    5  -18.3       -8.0   -3.3       4.1\n",
       "...     ...    ...  ...    ...        ...    ...       ...\n",
       "22276  2020     12   27  -41.7      -36.3  -32.8       0.0\n",
       "22277  2020     12   28  -40.1      -34.2  -25.5       0.0\n",
       "22278  2020     12   29  -28.2      -23.9  -18.6       0.0\n",
       "22279  2020     12   30  -21.8      -13.6   -9.9       0.8\n",
       "22280  2020     12   31  -23.2      -19.0  -10.0       1.4\n",
       "\n",
       "[22281 rows x 7 columns]"
      ]
     },
     "execution_count": 31,
     "metadata": {},
     "output_type": "execute_result"
    }
   ],
   "source": [
    "df = df.reset_index(drop=True)\n",
    "df"
   ]
  },
  {
   "cell_type": "markdown",
   "metadata": {},
   "source": [
    "3. Используя метод info(), oтветьте на вопросы:\n",
    "3.1. Есть ли в данных пропущенные значения? (да)\n",
    "3.2. В каком столбце данных больше всего пропущенных значений? (max_t)"
   ]
  },
  {
   "cell_type": "code",
   "execution_count": 37,
   "metadata": {},
   "outputs": [
    {
     "name": "stdout",
     "output_type": "stream",
     "text": [
      "Кол-во пропущеных значений - year           0\n",
      "month          0\n",
      "day            0\n",
      "min_t         26\n",
      "average_t     26\n",
      "max_t        564\n",
      "rainfall      28\n",
      "dtype: int64\n",
      "<class 'pandas.core.frame.DataFrame'>\n",
      "RangeIndex: 22281 entries, 0 to 22280\n",
      "Data columns (total 7 columns):\n",
      " #   Column     Non-Null Count  Dtype  \n",
      "---  ------     --------------  -----  \n",
      " 0   year       22281 non-null  int64  \n",
      " 1   month      22281 non-null  int64  \n",
      " 2   day        22281 non-null  int64  \n",
      " 3   min_t      22255 non-null  float64\n",
      " 4   average_t  22255 non-null  float64\n",
      " 5   max_t      21717 non-null  float64\n",
      " 6   rainfall   22253 non-null  float64\n",
      "dtypes: float64(4), int64(3)\n",
      "memory usage: 1.2 MB\n"
     ]
    }
   ],
   "source": [
    "print(f'Кол-во пропущеных значений - {df.isna().sum()}')\n",
    "df.info()\n"
   ]
  },
  {
   "cell_type": "markdown",
   "metadata": {},
   "source": [
    "4. В данных за какой год больше всего пропусков?"
   ]
  },
  {
   "cell_type": "code",
   "execution_count": 41,
   "metadata": {},
   "outputs": [
    {
     "name": "stdout",
     "output_type": "stream",
     "text": [
      "1961\n"
     ]
    }
   ],
   "source": [
    "nans = {}\n",
    "\n",
    "for i in df.year.unique():\n",
    "    nans[i] = df[df.year == i].isna().sum().sum()\n",
    "print(f'{max(nans, key=nans.get)}')"
   ]
  },
  {
   "cell_type": "markdown",
   "metadata": {},
   "source": [
    "5. Объедините столбцы «Год», «Месяц» и «День» в один столбец «Дата» в\n",
    "формате гггг-мм-дд (2000-01-20). Данные в новом столбце должны иметь\n",
    "формат datetime;"
   ]
  },
  {
   "cell_type": "code",
   "execution_count": 42,
   "metadata": {},
   "outputs": [
    {
     "data": {
      "text/plain": [
       "year                  int64\n",
       "month                 int64\n",
       "day                   int64\n",
       "min_t               float64\n",
       "average_t           float64\n",
       "max_t               float64\n",
       "rainfall            float64\n",
       "date         datetime64[ns]\n",
       "dtype: object"
      ]
     },
     "execution_count": 42,
     "metadata": {},
     "output_type": "execute_result"
    }
   ],
   "source": [
    "df['date'] = df['year'].map(str) + '-' + df['month'].map(str) + '-' + df['day'].map(str)\n",
    "df['date'] = pd.to_datetime(df['date'])\n",
    "df.dtypes"
   ]
  },
  {
   "cell_type": "markdown",
   "metadata": {},
   "source": [
    "6. Для каждого наблюдения рассчитайте размах температур (разность\n",
    "максимальной и минимальной суточных температур) и количество\n",
    "предшествующих ему дней без осадков (используйте циклы Python и\n",
    "условный оператор)"
   ]
  },
  {
   "cell_type": "code",
   "execution_count": 43,
   "metadata": {},
   "outputs": [
    {
     "name": "stderr",
     "output_type": "stream",
     "text": [
      "/tmp/ipykernel_335/252092553.py:8: SettingWithCopyWarning: \n",
      "A value is trying to be set on a copy of a slice from a DataFrame\n",
      "\n",
      "See the caveats in the documentation: https://pandas.pydata.org/pandas-docs/stable/user_guide/indexing.html#returning-a-view-versus-a-copy\n",
      "  df['days_without'][i] = df['days_without'][i-1] + 1\n"
     ]
    },
    {
     "data": {
      "text/html": [
       "<div>\n",
       "<style scoped>\n",
       "    .dataframe tbody tr th:only-of-type {\n",
       "        vertical-align: middle;\n",
       "    }\n",
       "\n",
       "    .dataframe tbody tr th {\n",
       "        vertical-align: top;\n",
       "    }\n",
       "\n",
       "    .dataframe thead th {\n",
       "        text-align: right;\n",
       "    }\n",
       "</style>\n",
       "<table border=\"1\" class=\"dataframe\">\n",
       "  <thead>\n",
       "    <tr style=\"text-align: right;\">\n",
       "      <th></th>\n",
       "      <th>year</th>\n",
       "      <th>month</th>\n",
       "      <th>day</th>\n",
       "      <th>min_t</th>\n",
       "      <th>average_t</th>\n",
       "      <th>max_t</th>\n",
       "      <th>rainfall</th>\n",
       "      <th>date</th>\n",
       "      <th>range</th>\n",
       "      <th>days_without</th>\n",
       "    </tr>\n",
       "  </thead>\n",
       "  <tbody>\n",
       "    <tr>\n",
       "      <th>0</th>\n",
       "      <td>1960</td>\n",
       "      <td>1</td>\n",
       "      <td>1</td>\n",
       "      <td>-6.9</td>\n",
       "      <td>-5.4</td>\n",
       "      <td>-3.8</td>\n",
       "      <td>0.1</td>\n",
       "      <td>1960-01-01</td>\n",
       "      <td>3.1</td>\n",
       "      <td>0</td>\n",
       "    </tr>\n",
       "    <tr>\n",
       "      <th>1</th>\n",
       "      <td>1960</td>\n",
       "      <td>1</td>\n",
       "      <td>2</td>\n",
       "      <td>-14.4</td>\n",
       "      <td>-10.0</td>\n",
       "      <td>-6.7</td>\n",
       "      <td>0.5</td>\n",
       "      <td>1960-01-02</td>\n",
       "      <td>7.7</td>\n",
       "      <td>0</td>\n",
       "    </tr>\n",
       "    <tr>\n",
       "      <th>2</th>\n",
       "      <td>1960</td>\n",
       "      <td>1</td>\n",
       "      <td>3</td>\n",
       "      <td>-21.7</td>\n",
       "      <td>-19.7</td>\n",
       "      <td>-13.4</td>\n",
       "      <td>0.0</td>\n",
       "      <td>1960-01-03</td>\n",
       "      <td>8.3</td>\n",
       "      <td>0</td>\n",
       "    </tr>\n",
       "    <tr>\n",
       "      <th>3</th>\n",
       "      <td>1960</td>\n",
       "      <td>1</td>\n",
       "      <td>4</td>\n",
       "      <td>-24.9</td>\n",
       "      <td>-21.4</td>\n",
       "      <td>-16.9</td>\n",
       "      <td>0.0</td>\n",
       "      <td>1960-01-04</td>\n",
       "      <td>8.0</td>\n",
       "      <td>1</td>\n",
       "    </tr>\n",
       "    <tr>\n",
       "      <th>4</th>\n",
       "      <td>1960</td>\n",
       "      <td>1</td>\n",
       "      <td>5</td>\n",
       "      <td>-18.3</td>\n",
       "      <td>-8.0</td>\n",
       "      <td>-3.3</td>\n",
       "      <td>4.1</td>\n",
       "      <td>1960-01-05</td>\n",
       "      <td>15.0</td>\n",
       "      <td>2</td>\n",
       "    </tr>\n",
       "    <tr>\n",
       "      <th>...</th>\n",
       "      <td>...</td>\n",
       "      <td>...</td>\n",
       "      <td>...</td>\n",
       "      <td>...</td>\n",
       "      <td>...</td>\n",
       "      <td>...</td>\n",
       "      <td>...</td>\n",
       "      <td>...</td>\n",
       "      <td>...</td>\n",
       "      <td>...</td>\n",
       "    </tr>\n",
       "    <tr>\n",
       "      <th>22276</th>\n",
       "      <td>2020</td>\n",
       "      <td>12</td>\n",
       "      <td>27</td>\n",
       "      <td>-41.7</td>\n",
       "      <td>-36.3</td>\n",
       "      <td>-32.8</td>\n",
       "      <td>0.0</td>\n",
       "      <td>2020-12-27</td>\n",
       "      <td>8.9</td>\n",
       "      <td>1</td>\n",
       "    </tr>\n",
       "    <tr>\n",
       "      <th>22277</th>\n",
       "      <td>2020</td>\n",
       "      <td>12</td>\n",
       "      <td>28</td>\n",
       "      <td>-40.1</td>\n",
       "      <td>-34.2</td>\n",
       "      <td>-25.5</td>\n",
       "      <td>0.0</td>\n",
       "      <td>2020-12-28</td>\n",
       "      <td>14.6</td>\n",
       "      <td>2</td>\n",
       "    </tr>\n",
       "    <tr>\n",
       "      <th>22278</th>\n",
       "      <td>2020</td>\n",
       "      <td>12</td>\n",
       "      <td>29</td>\n",
       "      <td>-28.2</td>\n",
       "      <td>-23.9</td>\n",
       "      <td>-18.6</td>\n",
       "      <td>0.0</td>\n",
       "      <td>2020-12-29</td>\n",
       "      <td>9.6</td>\n",
       "      <td>3</td>\n",
       "    </tr>\n",
       "    <tr>\n",
       "      <th>22279</th>\n",
       "      <td>2020</td>\n",
       "      <td>12</td>\n",
       "      <td>30</td>\n",
       "      <td>-21.8</td>\n",
       "      <td>-13.6</td>\n",
       "      <td>-9.9</td>\n",
       "      <td>0.8</td>\n",
       "      <td>2020-12-30</td>\n",
       "      <td>11.9</td>\n",
       "      <td>4</td>\n",
       "    </tr>\n",
       "    <tr>\n",
       "      <th>22280</th>\n",
       "      <td>2020</td>\n",
       "      <td>12</td>\n",
       "      <td>31</td>\n",
       "      <td>-23.2</td>\n",
       "      <td>-19.0</td>\n",
       "      <td>-10.0</td>\n",
       "      <td>1.4</td>\n",
       "      <td>2020-12-31</td>\n",
       "      <td>13.2</td>\n",
       "      <td>0</td>\n",
       "    </tr>\n",
       "  </tbody>\n",
       "</table>\n",
       "<p>22281 rows × 10 columns</p>\n",
       "</div>"
      ],
      "text/plain": [
       "       year  month  day  min_t  average_t  max_t  rainfall       date  range  \\\n",
       "0      1960      1    1   -6.9       -5.4   -3.8       0.1 1960-01-01    3.1   \n",
       "1      1960      1    2  -14.4      -10.0   -6.7       0.5 1960-01-02    7.7   \n",
       "2      1960      1    3  -21.7      -19.7  -13.4       0.0 1960-01-03    8.3   \n",
       "3      1960      1    4  -24.9      -21.4  -16.9       0.0 1960-01-04    8.0   \n",
       "4      1960      1    5  -18.3       -8.0   -3.3       4.1 1960-01-05   15.0   \n",
       "...     ...    ...  ...    ...        ...    ...       ...        ...    ...   \n",
       "22276  2020     12   27  -41.7      -36.3  -32.8       0.0 2020-12-27    8.9   \n",
       "22277  2020     12   28  -40.1      -34.2  -25.5       0.0 2020-12-28   14.6   \n",
       "22278  2020     12   29  -28.2      -23.9  -18.6       0.0 2020-12-29    9.6   \n",
       "22279  2020     12   30  -21.8      -13.6   -9.9       0.8 2020-12-30   11.9   \n",
       "22280  2020     12   31  -23.2      -19.0  -10.0       1.4 2020-12-31   13.2   \n",
       "\n",
       "       days_without  \n",
       "0                 0  \n",
       "1                 0  \n",
       "2                 0  \n",
       "3                 1  \n",
       "4                 2  \n",
       "...             ...  \n",
       "22276             1  \n",
       "22277             2  \n",
       "22278             3  \n",
       "22279             4  \n",
       "22280             0  \n",
       "\n",
       "[22281 rows x 10 columns]"
      ]
     },
     "execution_count": 43,
     "metadata": {},
     "output_type": "execute_result"
    }
   ],
   "source": [
    "\n",
    "df['range'] = df.max_t - df.min_t\n",
    "df['days_without'] = 0\n",
    "df.rainfall = pd.to_numeric(df.rainfall, errors='coerce')\n",
    "for i in range(1, len(df)):\n",
    "    if df['rainfall'][i-1] > 0:\n",
    "        continue\n",
    "    else:\n",
    "        df['days_without'][i] = df['days_without'][i-1] + 1\n",
    "        \n",
    "df\n",
    "\n"
   ]
  },
  {
   "cell_type": "markdown",
   "metadata": {},
   "source": [
    "7. Определите самый длинный период засухи."
   ]
  },
  {
   "cell_type": "code",
   "execution_count": 44,
   "metadata": {},
   "outputs": [
    {
     "name": "stdout",
     "output_type": "stream",
     "text": [
      "27\n"
     ]
    }
   ],
   "source": [
    "print(df.days_without.max())"
   ]
  },
  {
   "cell_type": "markdown",
   "metadata": {},
   "source": [
    "8. Для каждого года вычислите среднегодовую температуру и общее количество \n",
    "осадков. Запишите результаты в объекты Series."
   ]
  },
  {
   "cell_type": "code",
   "execution_count": 45,
   "metadata": {},
   "outputs": [
    {
     "data": {
      "text/plain": [
       "1960   -0.113934\n",
       "1961    2.424384\n",
       "1962    3.326849\n",
       "1963    3.461264\n",
       "1964    2.291803\n",
       "          ...   \n",
       "2016    3.021858\n",
       "2017    3.512329\n",
       "2018    1.607397\n",
       "2019    3.413973\n",
       "2020    4.776503\n",
       "Name: average_t, Length: 61, dtype: float64"
      ]
     },
     "execution_count": 45,
     "metadata": {},
     "output_type": "execute_result"
    }
   ],
   "source": [
    "df.average_t = pd.to_numeric(df.average_t, errors='coerce')\n",
    "temp = df.groupby(['year']).mean()\n",
    "avg_t_for_year = pd.Series(data = temp['average_t'], index=range(1960, 2021))\n",
    "avg_t_for_year"
   ]
  },
  {
   "cell_type": "code",
   "execution_count": 46,
   "metadata": {},
   "outputs": [
    {
     "data": {
      "text/plain": [
       "1960    472.7\n",
       "1961    517.8\n",
       "1962    368.7\n",
       "1963    430.3\n",
       "1964    425.3\n",
       "        ...  \n",
       "2016    488.8\n",
       "2017    498.2\n",
       "2018    442.4\n",
       "2019    375.4\n",
       "2020    437.2\n",
       "Name: rainfall, Length: 61, dtype: float64"
      ]
     },
     "execution_count": 46,
     "metadata": {},
     "output_type": "execute_result"
    }
   ],
   "source": [
    "temp = df.groupby(['year']).sum()\n",
    "full_rainfall = pd.Series(data = temp['rainfall'], index=range(1960, 2021))\n",
    "full_rainfall"
   ]
  },
  {
   "cell_type": "markdown",
   "metadata": {},
   "source": [
    "8.1. Какой год можно считать самым теплым? Какой самым холодным?\n",
    "8.2. В какой год выпало больше всего осадков? В какой меньше всего?"
   ]
  },
  {
   "cell_type": "code",
   "execution_count": 47,
   "metadata": {},
   "outputs": [
    {
     "name": "stdout",
     "output_type": "stream",
     "text": [
      "2020  - самый теплый год\n",
      "1969  - самый холодный год\n",
      "1970  - год с наибольшим количеством осадков\n",
      "1973  - год с наименьшим количеством осадков\n"
     ]
    }
   ],
   "source": [
    "print(avg_t_for_year[avg_t_for_year == avg_t_for_year.max()].index[0], ' - самый теплый год')\n",
    "print(avg_t_for_year[avg_t_for_year == avg_t_for_year.min()].index[0], ' - самый холодный год')\n",
    "print(full_rainfall[full_rainfall == full_rainfall.max()].index[0], ' - год с наибольшим количеством осадков')\n",
    "print(full_rainfall[full_rainfall == full_rainfall.min()].index[0], ' - год с наименьшим количеством осадков')"
   ]
  },
  {
   "cell_type": "markdown",
   "metadata": {},
   "source": [
    "Используя запись имя_серии.plot() вы можете построить график и \n",
    "посмотреть как изменялась температура. С помощью имя_серии. .plot.bar() \n",
    "можно отобразить на столбиковой диаграмме количество осадков, \n",
    "выпавших в каждый год."
   ]
  },
  {
   "cell_type": "code",
   "execution_count": 48,
   "metadata": {},
   "outputs": [
    {
     "data": {
      "text/plain": [
       "<AxesSubplot:>"
      ]
     },
     "execution_count": 48,
     "metadata": {},
     "output_type": "execute_result"
    },
    {
     "data": {
      "image/png": "[encoded data removed]",
      "text/plain": [
       "<Figure size 432x288 with 1 Axes>"
      ]
     },
     "metadata": {
      "needs_background": "light"
     },
     "output_type": "display_data"
    }
   ],
   "source": [
    "avg_t_for_year.plot()"
   ]
  },
  {
   "cell_type": "code",
   "execution_count": 49,
   "metadata": {},
   "outputs": [
    {
     "data": {
      "text/plain": [
       "<AxesSubplot:>"
      ]
     },
     "execution_count": 49,
     "metadata": {},
     "output_type": "execute_result"
    },
    {
     "data": {
      "image/png": "[encoded data removed]",
      "text/plain": [
       "<Figure size 432x288 with 1 Axes>"
      ]
     },
     "metadata": {
      "needs_background": "light"
     },
     "output_type": "display_data"
    }
   ],
   "source": [
    "full_rainfall.plot.bar()"
   ]
  },
  {
   "cell_type": "markdown",
   "metadata": {},
   "source": [
    "9. Выведете наблюдения, удовлетворяющие условиям:\n",
    "9.1. Средняя температура воздуха ниже -30 оС (для некоторых регионов \n",
    "можно использовать -10 оС, -35оС, -40 оС).\n",
    "9.2. Средняя температура воздуха выше 27\n",
    "оС и количество дней без осадков \n",
    "больше 3."
   ]
  },
  {
   "cell_type": "code",
   "execution_count": 52,
   "metadata": {},
   "outputs": [
    {
     "name": "stdout",
     "output_type": "stream",
     "text": [
      "       year  month  day  min_t  average_t  max_t  rainfall       date  range  \\\n",
      "17     1960      1   18  -31.4      -31.2  -27.2       0.0 1960-01-18    4.2   \n",
      "18     1960      1   19  -35.8      -33.2  -29.7       0.0 1960-01-19    6.1   \n",
      "323    1960     11   19  -31.3      -30.1    NaN       0.8 1960-11-19    NaN   \n",
      "361    1960     12   27  -34.2      -30.2    NaN       0.0 1960-12-27    NaN   \n",
      "373    1961      1    8  -36.2      -34.5    NaN       0.0 1961-01-08    NaN   \n",
      "...     ...    ...  ...    ...        ...    ...       ...        ...    ...   \n",
      "21585  2019      2    5  -38.0      -32.0  -24.3       0.0 2019-02-05   13.7   \n",
      "21588  2019      2    8  -38.3      -32.8  -24.8       0.0 2019-02-08   13.5   \n",
      "22275  2020     12   26  -35.5      -31.6  -23.4       0.0 2020-12-26   12.1   \n",
      "22276  2020     12   27  -41.7      -36.3  -32.8       0.0 2020-12-27    8.9   \n",
      "22277  2020     12   28  -40.1      -34.2  -25.5       0.0 2020-12-28   14.6   \n",
      "\n",
      "       days_without  \n",
      "17                1  \n",
      "18                2  \n",
      "323               0  \n",
      "361               1  \n",
      "373               0  \n",
      "...             ...  \n",
      "21585             1  \n",
      "21588             4  \n",
      "22275             0  \n",
      "22276             1  \n",
      "22277             2  \n",
      "\n",
      "[241 rows x 10 columns]\n"
     ]
    }
   ],
   "source": [
    "print(df[df['average_t'] < -30])\n"
   ]
  },
  {
   "cell_type": "code",
   "execution_count": 53,
   "metadata": {},
   "outputs": [
    {
     "name": "stdout",
     "output_type": "stream",
     "text": [
      "       year  month  day  min_t  average_t  max_t  rainfall       date  range  \\\n",
      "1270   1963      6   24   19.4       27.4   33.4       0.0 1963-06-24   14.0   \n",
      "1993   1965      6   16   18.1       27.2   34.9       0.0 1965-06-16   16.8   \n",
      "1994   1965      6   17   21.1       27.8   33.5       0.0 1965-06-17   12.4   \n",
      "2020   1965      7   13   19.0       28.3   34.7       0.0 1965-07-13   15.7   \n",
      "2029   1965      7   22   19.8       27.3   35.0       0.0 1965-07-22   15.2   \n",
      "3471   1969      7    3   21.4       27.1   33.2       0.0 1969-07-03   11.8   \n",
      "3472   1969      7    4   22.1       28.9   35.5       0.0 1969-07-04   13.4   \n",
      "3473   1969      7    5   23.2       27.9   34.2       0.0 1969-07-05   11.0   \n",
      "5305   1974      7   11   16.9       27.8   37.9       0.0 1974-07-11   21.0   \n",
      "6381   1977      6   21   19.5       27.2   32.9       0.0 1977-06-21   13.4   \n",
      "8601   1983      7   20   20.4       27.2   33.7       0.0 1983-07-20   13.3   \n",
      "10395  1988      6   17   19.4       28.3   36.6       0.0 1988-06-17   17.2   \n",
      "11884  1992      7   15   17.9       28.0   37.1       0.0 1992-07-15   19.2   \n",
      "15563  2002      8   11   21.7       28.5   38.3       0.0 2002-08-11   16.6   \n",
      "\n",
      "       days_without  \n",
      "1270              8  \n",
      "1993              4  \n",
      "1994              5  \n",
      "2020              9  \n",
      "2029             18  \n",
      "3471              4  \n",
      "3472              5  \n",
      "3473              6  \n",
      "5305             18  \n",
      "6381             24  \n",
      "8601              6  \n",
      "10395             6  \n",
      "11884             6  \n",
      "15563             9  \n"
     ]
    }
   ],
   "source": [
    "print(df[(df['average_t'] > 27) & (df['days_without'] > 3)])"
   ]
  }
 ],
 "metadata": {
  "kernelspec": {
   "display_name": "Python 3.8.10 64-bit",
   "language": "python",
   "name": "python3"
  },
  "language_info": {
   "codemirror_mode": {
    "name": "ipython",
    "version": 3
   },
   "file_extension": ".py",
   "mimetype": "text/x-python",
   "name": "python",
   "nbconvert_exporter": "python",
   "pygments_lexer": "ipython3",
   "version": "3.8.10"
  },
  "orig_nbformat": 4,
  "vscode": {
   "interpreter": {
    "hash": "916dbcbb3f70747c44a77c7bcd40155683ae19c65e1c03b4aa3499c5328201f1"
   }
  }
 },
 "nbformat": 4,
 "nbformat_minor": 2
}
