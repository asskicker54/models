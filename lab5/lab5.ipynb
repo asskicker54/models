{
 "cells": [
  {
   "cell_type": "code",
   "execution_count": 1,
   "metadata": {},
   "outputs": [],
   "source": [
    "import math\n",
    "import pandas as pd\n",
    "import numpy as np\n",
    "import scipy.stats\n",
    "import statistics"
   ]
  },
  {
   "cell_type": "markdown",
   "metadata": {},
   "source": [
    "Создадим списки x и x_with_nan:"
   ]
  },
  {
   "cell_type": "code",
   "execution_count": 11,
   "metadata": {},
   "outputs": [
    {
     "name": "stdout",
     "output_type": "stream",
     "text": [
      "Вывод исходных данных, которые содержатся в x:[1, 2, 3, 4, 5, 6]\n",
      "Вывод исходных данных, которые содержатся в x_with_nan:[1, 2, 3, nan, 5, 6]\n"
     ]
    }
   ],
   "source": [
    "x = [1, 2, 3, 4, 5, 6]\n",
    "x_with_nan = [1, 2, 3, math.nan, 5, 6]\n",
    "print(f'Вывод исходных данных, которые содержатся в x:{x}')\n",
    "print(f'Вывод исходных данных, которые содержатся в \\\n",
    "x_with_nan:{x_with_nan}')"
   ]
  },
  {
   "cell_type": "markdown",
   "metadata": {},
   "source": [
    " Создадим объекты np.ndarray и pd.Series, соответствующие x и\n",
    "x_with_nan:\n"
   ]
  },
  {
   "cell_type": "code",
   "execution_count": 12,
   "metadata": {},
   "outputs": [
    {
     "name": "stdout",
     "output_type": "stream",
     "text": [
      "Вывод данных, которые содержатся в y и y_with_nan:[1 2 3 4 5 6], [ 1.  2.  3. nan  5.  6.]\n",
      "Вывод данных, которые содержатся в z и в z_with_nan: 0    1\n",
      "1    2\n",
      "2    3\n",
      "3    4\n",
      "4    5\n",
      "5    6\n",
      "dtype: int64, 0    1.0\n",
      "1    2.0\n",
      "2    3.0\n",
      "3    NaN\n",
      "4    5.0\n",
      "5    6.0\n",
      "dtype: float64\n"
     ]
    }
   ],
   "source": [
    "y, y_with_nan = np.array(x), np.array(x_with_nan)\n",
    "z, z_with_nan = pd.Series(x), pd.Series(x_with_nan)\n",
    "print(f'Вывод данных, которые содержатся в y и y_with_nan:{y}, \\\n",
    "{y_with_nan}')\n",
    "print(f'Вывод данных, которые содержатся в z и в z_with_nan: {z}, \\\n",
    "{z_with_nan}')"
   ]
  },
  {
   "cell_type": "markdown",
   "metadata": {},
   "source": [
    "После формирования исходных данных, приступаем к расчету\n",
    "центральной метрики, а именно среднего значения:"
   ]
  },
  {
   "cell_type": "code",
   "execution_count": 13,
   "metadata": {},
   "outputs": [
    {
     "name": "stdout",
     "output_type": "stream",
     "text": [
      "Расчет среднего значения, используя sum и len: 3.5\n",
      "Расчет среднего значения, используя встроенные функции статистики Python (statistics.mean(x)): 3.5\n",
      "Расчет среднего значения, используя встроенные функции статистики Python (statistics.fmean(x)): 3.5\n",
      "Расчет среднего значения, который содержит значения nan,используя встроенные функции статистики Python(statistics.mean(x)): nan\n",
      "Расчет среднего значения, используя NumPy: 3.5\n",
      "Расчет среднего значения с помощью NumPy, игнорируя nan: 3.4\n",
      "Расчет среднего значения объекта pd.Series: 3.5\n"
     ]
    }
   ],
   "source": [
    "#Расчет средних значений\n",
    "mean_1 = sum(x) / len(x)\n",
    "print(f'Расчет среднего значения, используя sum и len: {mean_1}')\n",
    "\n",
    "mean_2 = statistics.mean(x)\n",
    "print(f'Расчет среднего значения, используя встроенные функции \\\n",
    "статистики Python (statistics.mean(x)): {mean_2}')\n",
    "\n",
    "mean_3 = statistics.mean(x)\n",
    "print(f'Расчет среднего значения, используя встроенные функции \\\n",
    "статистики Python (statistics.fmean(x)): {mean_3}')\n",
    "\n",
    "mean_4 = statistics.mean(x_with_nan)\n",
    "print(f'Расчет среднего значения, который содержит значения nan,\\\n",
    "используя встроенные функции статистики Python\\\n",
    "(statistics.mean(x)): {mean_4}')\n",
    "\n",
    "mean_5 = np.mean(y)\n",
    "print(f'Расчет среднего значения, используя NumPy: {mean_5}')\n",
    "\n",
    "np.nanmean(y_with_nan)\n",
    "print(f'Расчет среднего значения с помощью NumPy, игнорируя nan: \\\n",
    "{np.nanmean(y_with_nan)}')\n",
    "\n",
    "mean_6 = z.mean()\n",
    "print(f'Расчет среднего значения объекта pd.Series: {mean_6}')"
   ]
  },
  {
   "cell_type": "markdown",
   "metadata": {},
   "source": [
    "Рассчитаем средневзвешенное значение. Средневзвешенное или также\n",
    "называемое средневзвешенным арифметическим или средневзвешенным\n",
    "значением, является обобщением среднего арифметического, которое позволяет\n",
    "вам определить относительный вклад каждой точки данных в результат:"
   ]
  },
  {
   "cell_type": "code",
   "execution_count": 14,
   "metadata": {},
   "outputs": [
    {
     "name": "stdout",
     "output_type": "stream",
     "text": [
      "Расчет средневзвешанного с помощью range: 6.8\n",
      "Расчет средневзвешанного с помощью zip: 6.8\n",
      "Расчет средневзвешанного с помощью np.average для массивово NumPy или серии Pandas: 6.8\n",
      "Расчет средневзвешанного с помощью поэлементного умножения w * y: 6.8\n",
      "Расчет средневзвешанного для набора, который содержит nan : nan\n"
     ]
    }
   ],
   "source": [
    "#Расчет средневзвешанных значений\n",
    "x = [6.0, 1, 2.5, 6, 25.0]\n",
    "w = [0.1, 0.2, 0.3, 0.25, 0.15]\n",
    "\n",
    "wmean = sum(w[i] * x[i] for i in range(len(x))) / sum(w)\n",
    "print(f'Расчет средневзвешанного с помощью range: {wmean}')\n",
    "\n",
    "wmean2 = sum(x_ * w_ for (x_, w_) in zip(x, w)) / sum(w)\n",
    "print(f'Расчет средневзвешанного с помощью zip: {wmean2}')\n",
    "\n",
    "y, z, w = np.array(x), pd.Series(x), np.array(w)\n",
    "wmean3= np.average(y, weights=w)\n",
    "print(f'Расчет средневзвешанного с помощью np.average для \\\n",
    "массивово NumPy или серии Pandas: {wmean3}')\n",
    "\n",
    "o = (w * y).sum() / w.sum()\n",
    "print(f'Расчет средневзвешанного с помощью поэлементного умножения \\\n",
    "w * y: {o}')\n",
    "\n",
    "w = np.array([0.1, 0.2, 0.3, 0.0, 0.2, 0.1])\n",
    "print(f'Расчет средневзвешанного для набора, который содержит nan \\\n",
    ": {(w * y_with_nan).sum() / w.sum()}')"
   ]
  },
  {
   "cell_type": "markdown",
   "metadata": {},
   "source": [
    "Рассчитаем гармоническое среднее, что есть обратная величина от\n",
    "среднего значения обратных величин всех элементов в наборе данных:"
   ]
  },
  {
   "cell_type": "code",
   "execution_count": 15,
   "metadata": {},
   "outputs": [
    {
     "name": "stdout",
     "output_type": "stream",
     "text": [
      "Расчет гармонического среднего: 2.8195488721804507\n",
      "Расчет гармонического среднего с помощью statistics.harmonic_mean(): 2.819548872180451\n",
      "Расчет гармонического среднего, где есть nan: nan\n",
      "Расчет гармонического среднего, где есть 0: 0\n",
      "Расчет гармонического среднего с помощью scipy.stats.hmean(): 2.8195488721804507\n"
     ]
    }
   ],
   "source": [
    "#Гармоническое среднее\n",
    "hmean = len(x) / sum(1 / item for item in x)\n",
    "print(f'Расчет гармонического среднего: {hmean}')\n",
    "\n",
    "hmean2 = statistics.harmonic_mean(x)\n",
    "print(f'Расчет гармонического среднего с помощью \\\n",
    "statistics.harmonic_mean(): {hmean2}')\n",
    "\n",
    "statistics.harmonic_mean(x_with_nan)\n",
    "print(f'Расчет гармонического среднего, где есть nan: \\\n",
    "{statistics.harmonic_mean(x_with_nan)}')\n",
    "\n",
    "statistics.harmonic_mean([1, 0, 2])\n",
    "print(f'Расчет гармонического среднего, где есть 0: \\\n",
    "{statistics.harmonic_mean([1, 0, 2])}')\n",
    "\n",
    "scipy.stats.hmean(y)\n",
    "print(f'Расчет гармонического среднего с помощью \\\n",
    "scipy.stats.hmean(): {scipy.stats.hmean(y)}')"
   ]
  },
  {
   "cell_type": "markdown",
   "metadata": {},
   "source": [
    "Рассчитаем среднее геометрическое:"
   ]
  },
  {
   "cell_type": "code",
   "execution_count": 16,
   "metadata": {},
   "outputs": [
    {
     "name": "stdout",
     "output_type": "stream",
     "text": [
      "Вычисление геометрического среднего: 2.0613255209172676\n",
      "Вычисление геометрического среднего с помощью statistics.geometric_mean(): 4.682054920046206\n",
      "Вычисление геометрического среднего где есть nan: nan\n",
      "Вычисление геометрического среднего с помощью scipy.stats.gmean(): 4.682054920046206\n"
     ]
    }
   ],
   "source": [
    "#Среднее геометрическое\n",
    "gmean = 1\n",
    "for item in x:\n",
    "    gmean *= item\n",
    "    gmean **= 1 / len(x)\n",
    "print(f'Вычисление геометрического среднего: {gmean}')\n",
    "gmean2 = statistics.geometric_mean(x)\n",
    "print(f'Вычисление геометрического среднего с помощью \\\n",
    "statistics.geometric_mean(): {gmean2}')\n",
    "\n",
    "gmean3 = statistics.geometric_mean(x_with_nan)\n",
    "print(f'Вычисление геометрического среднего где есть nan: \\\n",
    "{gmean3}')\n",
    "\n",
    "scipy.stats.gmean(y)\n",
    "print(f'Вычисление геометрического среднего с помощью \\\n",
    "scipy.stats.gmean(): {scipy.stats.gmean(y)}')"
   ]
  },
  {
   "cell_type": "markdown",
   "metadata": {},
   "source": [
    "Медиана – это средний элемент отсортированного набора данных.\n",
    "Расчет медианы представлен в следующем программном коде:\n"
   ]
  },
  {
   "cell_type": "code",
   "execution_count": 17,
   "metadata": {},
   "outputs": [
    {
     "name": "stdout",
     "output_type": "stream",
     "text": [
      "Расчет медианы: 6.0\n",
      "Расчет медианы с помощью statistics.median(): 6.0\n",
      "Расчет медианы с помощью statistics.median_low: 2.5\n",
      "Расчет медианы с помощью statistics.median_high 6.0\n",
      "Расчет медианы с помощью np.median: 6.0\n"
     ]
    }
   ],
   "source": [
    "n = len(x)\n",
    "if n % 2:\n",
    " median_ = sorted(x)[round(0.5*(n-1))]\n",
    "else:\n",
    " x_ord, index = sorted(x), round(0.5 * n)\n",
    " median_ = 0.5 * (x_ord[index-1] + x_ord[index])\n",
    "print(f'Расчет медианы: {median_}')\n",
    "\n",
    "median_2 = statistics.median(x)\n",
    "print(f'Расчет медианы с помощью statistics.median(): {median_2}')\n",
    "\n",
    "statistics.median_low(x[:-1])\n",
    "print(f'Расчет медианы с помощью statistics.median_low: \\\n",
    "{statistics.median_low(x[:-1])}')\n",
    "\n",
    "statistics.median_high(x[:-1])\n",
    "print(f'Расчет медианы с помощью statistics.median_high \\\n",
    "{statistics.median_high(x[:-1])}')\n",
    "\n",
    "median_2 = np.median(y)\n",
    "print(f'Расчет медианы с помощью np.median: {median_2}')\n"
   ]
  },
  {
   "cell_type": "markdown",
   "metadata": {},
   "source": [
    "Мода – это значение в наборе данных, которое встречается чаще всего.\n",
    "Если такого значения не существует, набор является мультимодальным,\n",
    "поскольку он имеет несколько модальных значений. Расчет моды представлен в\n",
    "программном коде:"
   ]
  },
  {
   "cell_type": "code",
   "execution_count": 18,
   "metadata": {},
   "outputs": [
    {
     "name": "stdout",
     "output_type": "stream",
     "text": [
      "Вычисление моды: 2\n",
      "Вычисление моды с помощью statistics.mode(): 2\n",
      "Вычисление моды с помощью statistics.multimode(): [2]\n",
      "Вычисление моды с помощью scipy.stats.mode(): ModeResult(mode=array([2]), count=array([2]))\n"
     ]
    },
    {
     "name": "stderr",
     "output_type": "stream",
     "text": [
      "/tmp/ipykernel_916/2465841387.py:12: FutureWarning: Unlike other reduction functions (e.g. `skew`, `kurtosis`), the default behavior of `mode` typically preserves the axis it acts along. In SciPy 1.11.0, this behavior will change: the default value of `keepdims` will become False, the `axis` over which the statistic is taken will be eliminated, and the value None will no longer be accepted. Set `keepdims` to True or False to avoid this warning.\n",
      "  mode_4 = scipy.stats.mode(u)\n"
     ]
    }
   ],
   "source": [
    "u = [2, 3, 2, 8, 12]\n",
    "mode_ = max((u.count(item), item) for item in set(u))[1]\n",
    "print(f'Вычисление моды: {mode_}')\n",
    "\n",
    "mode_2 = statistics.mode(u)\n",
    "print(f'Вычисление моды с помощью statistics.mode(): {mode_2}')\n",
    "\n",
    "mode_3 = statistics.multimode(u)\n",
    "print(f'Вычисление моды с помощью statistics.multimode(): \\\n",
    "{mode_3}')\n",
    "\n",
    "mode_4 = scipy.stats.mode(u)\n",
    "print(f'Вычисление моды с помощью scipy.stats.mode(): {mode_4}')"
   ]
  },
  {
   "cell_type": "markdown",
   "metadata": {},
   "source": [
    "Расчет дисперсии:"
   ]
  },
  {
   "cell_type": "code",
   "execution_count": 19,
   "metadata": {},
   "outputs": [
    {
     "name": "stdout",
     "output_type": "stream",
     "text": [
      "Оценка дисперсии на чистом Python: 94.04999999999998\n",
      "Оценка дисперсии с помощью statistics.variance(): 94.04999999999998\n",
      "Оценка дисперсии с помощью statistics.variance(), где есть nan: nan\n",
      "Оценка дисперсии, используя NumPy с помощью np.var(): 94.04999999999998\n",
      "Оценка дисперсии, используя NumPy с помощью метода .var(): 94.04999999999998\n"
     ]
    }
   ],
   "source": [
    "n = len(x)\n",
    "mean = sum(x) / n\n",
    "var_ = sum((item - mean)**2 for item in x) / (n - 1)\n",
    "print(f'Оценка дисперсии на чистом Python: {var_}')\n",
    "\n",
    "var_1= statistics.variance(x)\n",
    "print(f'Оценка дисперсии с помощью statistics.variance(): \\\n",
    "{var_1}')\n",
    "\n",
    "statistics.variance(x_with_nan)\n",
    "print(f'Оценка дисперсии с помощью statistics.variance(), где есть \\\n",
    "nan: {statistics.variance(x_with_nan)}')\n",
    "\n",
    "var_2 = np.var(y, ddof=1)\n",
    "print(f'Оценка дисперсии, используя NumPy с помощью np.var(): \\\n",
    "{var_2}')\n",
    "\n",
    "var_3 = y.var(ddof=1)\n",
    "print(f'Оценка дисперсии, используя NumPy с помощью метода .var(): \\\n",
    "{var_3}')\n"
   ]
  },
  {
   "cell_type": "markdown",
   "metadata": {},
   "source": [
    "Расчет среднеквадратичного отклонения:\n"
   ]
  },
  {
   "cell_type": "code",
   "execution_count": 20,
   "metadata": {},
   "outputs": [
    {
     "name": "stdout",
     "output_type": "stream",
     "text": [
      "Расчет среднеквадратичного отклонения на чистом Python: 9.697937925146768\n",
      "Расчет среднеквадратичного отклонения с помощью statistics.stdev(): 9.697937925146768\n",
      "Расчет среднеквадратичного отклонения с помощью NumPy: 9.697937925146768\n"
     ]
    }
   ],
   "source": [
    "#Среднеквадратичное отклонение\n",
    "std_ = var_ ** 0.5\n",
    "print(f'Расчет среднеквадратичного отклонения на чистом Python: \\\n",
    "{std_}')\n",
    "\n",
    "std_2 = statistics.stdev(x)\n",
    "print(f'Расчет среднеквадратичного отклонения с помощью \\\n",
    "statistics.stdev(): {std_2}')\n",
    "\n",
    "np.std(y, ddof=1)\n",
    "print(f'Расчет среднеквадратичного отклонения с помощью NumPy: \\\n",
    "{np.std(y, ddof=1)}')"
   ]
  },
  {
   "cell_type": "markdown",
   "metadata": {},
   "source": [
    "Найдем смещение:"
   ]
  },
  {
   "cell_type": "code",
   "execution_count": 21,
   "metadata": {},
   "outputs": [
    {
     "name": "stdout",
     "output_type": "stream",
     "text": [
      "Расчет смещения на чистом Python: 1.9470432273905929\n",
      "Расчет смещения с помощью Pandas: 1.9470432273905924\n"
     ]
    }
   ],
   "source": [
    "#Смещение\n",
    "x = [8.0, 1, 2.5, 4, 28.0]\n",
    "n = len(x)\n",
    "mean_ = sum(x) / n\n",
    "var_ = sum((item - mean_)**2 for item in x) / (n - 1)\n",
    "std_ = var_ ** 0.5\n",
    "skew_ = (sum((item - mean_)**3 for item in x)\n",
    "* n / ((n - 1) * (n - 2) * std_**3))\n",
    "print(f'Расчет смещения на чистом Python: {skew_}')\n",
    "\n",
    "z, z_with_nan = pd.Series(x), pd.Series(x_with_nan)\n",
    "print(f'Расчет смещения с помощью Pandas: {z.skew()}')"
   ]
  },
  {
   "cell_type": "markdown",
   "metadata": {},
   "source": [
    "Процентиль – такой элемент в наборе данных, что p элементов в этом\n",
    "наборе данных меньше или равно его значению. Кроме того, (100 – p)\n",
    "элементов больше или равно этому значению. Если в наборе данных есть два\n",
    "таких элемента, то процентиль является их средним арифметическим.\n",
    "Расчитаем процентиль:"
   ]
  },
  {
   "cell_type": "code",
   "execution_count": 22,
   "metadata": {},
   "outputs": [
    {
     "name": "stdout",
     "output_type": "stream",
     "text": [
      "Расчет процентилей с помощью statistics.quantiles(): [8.0]\n",
      "Расчет процентилей с помощью statistics.quantiles(): [0.1, 8.0, 21.0]\n",
      "Нахождение 5 процентиля : -3.44\n",
      "Нахождение 95 процентиля : 34.919999999999995\n",
      "Нахождение процентиля используя метод .quantile(): -3.44\n"
     ]
    }
   ],
   "source": [
    "#Процентили\n",
    "x = [-5.0, -1.1, 0.1, 2.0, 8.0, 12.8, 21.0, 25.8, 41.0]\n",
    "print(f'Расчет процентилей с помощью statistics.quantiles(): \\\n",
    "{statistics.quantiles(x, n=2)}')\n",
    "\n",
    "statistics.quantiles(x, n=4, method='inclusive')\n",
    "print(f\"Расчет процентилей с помощью statistics.quantiles(): \\\n",
    "{statistics.quantiles(x, n=4, method='inclusive')}\")\n",
    "\n",
    "y = np.array(x)\n",
    "np.percentile(y, 5)\n",
    "print(f'Нахождение 5 процентиля : {np.percentile(y, 5)}')\n",
    "\n",
    "np.percentile(y, 95)\n",
    "print(f'Нахождение 95 процентиля : {np.percentile(y, 95)}')\n",
    "\n",
    "z, z_with_nan = pd.Series(y), pd.Series(y_with_nan)\n",
    "z.quantile(0.05)\n",
    "print(f'Нахождение процентиля используя метод .quantile(): \\\n",
    "{z.quantile(0.05)}')"
   ]
  },
  {
   "cell_type": "markdown",
   "metadata": {},
   "source": [
    "Диапазон данных – это разница между максимальным и\n",
    "минимальным элементом в наборе данных. Эти показатели найдем с\n",
    "использованием функции np.ptp():\n"
   ]
  },
  {
   "cell_type": "code",
   "execution_count": 24,
   "metadata": {},
   "outputs": [
    {
     "name": "stdout",
     "output_type": "stream",
     "text": [
      "Нахождение диапазона с помощью функции np.ptp():(46.0, 46.0, nan, nan)\n"
     ]
    }
   ],
   "source": [
    "#Диапазон\n",
    "np.ptp(y)\n",
    "np.ptp(z)\n",
    "np.ptp(y_with_nan)\n",
    "np.ptp(z_with_nan)\n",
    "print(f'Нахождение диапазона с помощью функции np.ptp():{np.ptp(y),np.ptp(z),np.ptp(y_with_nan),np.ptp(z_with_nan)}')\n"
   ]
  },
  {
   "cell_type": "markdown",
   "metadata": {},
   "source": [
    " сводка описательной статистики:"
   ]
  },
  {
   "cell_type": "code",
   "execution_count": 26,
   "metadata": {},
   "outputs": [
    {
     "name": "stdout",
     "output_type": "stream",
     "text": [
      "Сводка описательной статистики с помощью scipy.stats.describe(): DescribeResult(nobs=9, minmax=(-5.0, 41.0), mean=11.622222222222222, variance=228.75194444444446, skewness=0.9249043136685094, kurtosis=0.14770623629658886)\n",
      "Сводка описательной статистики с помощью метода .describe() в Pandas: count     9.000000\n",
      "mean     11.622222\n",
      "std      15.124548\n",
      "min      -5.000000\n",
      "25%       0.100000\n",
      "50%       8.000000\n",
      "75%      21.000000\n",
      "max      41.000000\n",
      "dtype: float64\n"
     ]
    }
   ],
   "source": [
    "#Сводка описательной статистики\n",
    "result = scipy.stats.describe(y, ddof=1, bias=False)\n",
    "print(f'Сводка описательной статистики с помощью scipy.stats.describe(): {result}')\n",
    "\n",
    "result2 = z.describe()\n",
    "print(f'Сводка описательной статистики с помощью метода .describe() в Pandas: {result2}')\n"
   ]
  },
  {
   "cell_type": "markdown",
   "metadata": {},
   "source": []
  }
 ],
 "metadata": {
  "kernelspec": {
   "display_name": "Python 3.8.10 64-bit",
   "language": "python",
   "name": "python3"
  },
  "language_info": {
   "codemirror_mode": {
    "name": "ipython",
    "version": 3
   },
   "file_extension": ".py",
   "mimetype": "text/x-python",
   "name": "python",
   "nbconvert_exporter": "python",
   "pygments_lexer": "ipython3",
   "version": "3.8.10"
  },
  "orig_nbformat": 4,
  "vscode": {
   "interpreter": {
    "hash": "916dbcbb3f70747c44a77c7bcd40155683ae19c65e1c03b4aa3499c5328201f1"
   }
  }
 },
 "nbformat": 4,
 "nbformat_minor": 2
}
