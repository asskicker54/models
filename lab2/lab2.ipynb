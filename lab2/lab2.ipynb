{
 "cells": [
  {
   "cell_type": "code",
   "execution_count": 1,
   "metadata": {},
   "outputs": [],
   "source": [
    "import numpy as np"
   ]
  },
  {
   "cell_type": "markdown",
   "metadata": {},
   "source": [
    "1. Создайте массив arr_1 размером 3х4, все элементы которого равны 3"
   ]
  },
  {
   "cell_type": "code",
   "execution_count": 2,
   "metadata": {},
   "outputs": [
    {
     "name": "stdout",
     "output_type": "stream",
     "text": [
      "[[3 3 3 3]\n",
      " [3 3 3 3]\n",
      " [3 3 3 3]]\n"
     ]
    }
   ],
   "source": [
    "arr_1 = np.full((3, 4), 3)\n",
    "print(arr_1)"
   ]
  },
  {
   "cell_type": "markdown",
   "metadata": {},
   "source": [
    "2. Создайте массив arr_2, заполненный случайными целыми числами от 0 до\n",
    "9, размером 2х4."
   ]
  },
  {
   "cell_type": "code",
   "execution_count": 7,
   "metadata": {},
   "outputs": [
    {
     "name": "stdout",
     "output_type": "stream",
     "text": [
      "[[10  7  5  5]\n",
      " [ 8  4  7  2]]\n"
     ]
    }
   ],
   "source": [
    "arr_2 = np.random.randint(0, 11, (2, 4))\n",
    "print(arr_2)"
   ]
  },
  {
   "cell_type": "markdown",
   "metadata": {},
   "source": [
    "3. Выведите на экран количество элементов в созданных массивах arr_1 и\n",
    "arr_2.\n"
   ]
  },
  {
   "cell_type": "code",
   "execution_count": 8,
   "metadata": {},
   "outputs": [
    {
     "name": "stdout",
     "output_type": "stream",
     "text": [
      "12 8\n"
     ]
    }
   ],
   "source": [
    "print(arr_1.size, arr_2.size)"
   ]
  },
  {
   "cell_type": "markdown",
   "metadata": {},
   "source": [
    "4. Соедините массивы arr_1 и arr_2 по нулевой оси."
   ]
  },
  {
   "cell_type": "code",
   "execution_count": 9,
   "metadata": {},
   "outputs": [
    {
     "name": "stdout",
     "output_type": "stream",
     "text": [
      "[[ 3  3  3  3]\n",
      " [ 3  3  3  3]\n",
      " [ 3  3  3  3]\n",
      " [10  7  5  5]\n",
      " [ 8  4  7  2]]\n"
     ]
    }
   ],
   "source": [
    "print(np.append(arr_1, arr_2, axis=0))\n"
   ]
  },
  {
   "cell_type": "markdown",
   "metadata": {},
   "source": [
    "5. Создайте массив arr_3 из кортежа чисел (1, 8, 6, 5, 8, 3) с помощью функции\n",
    "np.array()"
   ]
  },
  {
   "cell_type": "code",
   "execution_count": 10,
   "metadata": {},
   "outputs": [
    {
     "name": "stdout",
     "output_type": "stream",
     "text": [
      "[1 8 6 5 8 3]\n"
     ]
    }
   ],
   "source": [
    "a = (1, 8, 6, 5, 8, 3)\n",
    "arr_3 = np.array(a)\n",
    "print(arr_3)"
   ]
  },
  {
   "cell_type": "markdown",
   "metadata": {},
   "source": [
    "6. Умножьте каждый элемент массива arr_3 на число 3 и прибавьте к каждому\n",
    "элементу 1. Результат запишите в новый массив arr_4."
   ]
  },
  {
   "cell_type": "code",
   "execution_count": 12,
   "metadata": {},
   "outputs": [
    {
     "name": "stdout",
     "output_type": "stream",
     "text": [
      "[ 4 25 19 16 25 10]\n"
     ]
    }
   ],
   "source": [
    "arr_4 = arr_3 * 3 + 1\n",
    "print(arr_4)"
   ]
  },
  {
   "cell_type": "markdown",
   "metadata": {},
   "source": [
    "7. Преобразуйте масиив arr_3 к двумерному массиву 2х3. Результат запишите\n",
    "в массив arr_5."
   ]
  },
  {
   "cell_type": "code",
   "execution_count": 14,
   "metadata": {},
   "outputs": [
    {
     "name": "stdout",
     "output_type": "stream",
     "text": [
      "[[1 8 6]\n",
      " [5 8 3]]\n"
     ]
    }
   ],
   "source": [
    "arr_5 = arr_3.reshape(2, 3)\n",
    "print(arr_5)"
   ]
  },
  {
   "cell_type": "markdown",
   "metadata": {},
   "source": [
    "8. Определите минимальные элементы массива arr_5 вдоль первой оси."
   ]
  },
  {
   "cell_type": "code",
   "execution_count": 17,
   "metadata": {},
   "outputs": [
    {
     "name": "stdout",
     "output_type": "stream",
     "text": [
      "[1 3]\n"
     ]
    }
   ],
   "source": [
    "print(np.min(arr_5,axis=1))"
   ]
  },
  {
   "cell_type": "markdown",
   "metadata": {},
   "source": [
    "9. Вычислите среднее арифметическое всех элементов массива arr_5.\n"
   ]
  },
  {
   "cell_type": "code",
   "execution_count": 18,
   "metadata": {},
   "outputs": [
    {
     "name": "stdout",
     "output_type": "stream",
     "text": [
      "5.166666666666667\n"
     ]
    }
   ],
   "source": [
    "print(np.mean(arr_5))"
   ]
  },
  {
   "cell_type": "markdown",
   "metadata": {},
   "source": [
    "10. Создайте массив arr_6, состоящий из квадратов чисел от 0 до 10. "
   ]
  },
  {
   "cell_type": "code",
   "execution_count": 19,
   "metadata": {},
   "outputs": [
    {
     "name": "stdout",
     "output_type": "stream",
     "text": [
      "[  0   1   4   9  16  25  36  49  64  81 100]\n"
     ]
    }
   ],
   "source": [
    "arr_6 = np.square(np.arange(11))\n",
    "print(arr_6)"
   ]
  },
  {
   "cell_type": "markdown",
   "metadata": {},
   "source": [
    "11. Выведите каждый второй элемент массива arr_6."
   ]
  },
  {
   "cell_type": "code",
   "execution_count": 20,
   "metadata": {},
   "outputs": [
    {
     "name": "stdout",
     "output_type": "stream",
     "text": [
      "[  0   4  16  36  64 100]\n"
     ]
    }
   ],
   "source": [
    "print(arr_6[::2])"
   ]
  },
  {
   "cell_type": "markdown",
   "metadata": {},
   "source": [
    "12. Выведите элементы массива arr_6 в обратном порядке."
   ]
  },
  {
   "cell_type": "code",
   "execution_count": 21,
   "metadata": {},
   "outputs": [
    {
     "name": "stdout",
     "output_type": "stream",
     "text": [
      "[100  81  64  49  36  25  16   9   4   1   0]\n"
     ]
    }
   ],
   "source": [
    "print(arr_6[::-1])"
   ]
  },
  {
   "cell_type": "markdown",
   "metadata": {},
   "source": [
    "13. Каждому второму элементу массива arr_6 присвойте значение 2"
   ]
  },
  {
   "cell_type": "code",
   "execution_count": 22,
   "metadata": {},
   "outputs": [
    {
     "name": "stdout",
     "output_type": "stream",
     "text": [
      "[ 2  1  2  9  2 25  2 49  2 81  2]\n"
     ]
    }
   ],
   "source": [
    "arr_6[::2] = 2\n",
    "print(arr_6)"
   ]
  },
  {
   "cell_type": "markdown",
   "metadata": {},
   "source": [
    "14. Проверьте, есть ли в массиве arr_6 значение 49."
   ]
  },
  {
   "cell_type": "code",
   "execution_count": 23,
   "metadata": {},
   "outputs": [
    {
     "name": "stdout",
     "output_type": "stream",
     "text": [
      "True\n"
     ]
    }
   ],
   "source": [
    "print(49 in arr_6)"
   ]
  },
  {
   "cell_type": "markdown",
   "metadata": {},
   "source": [
    "15. Создайте двумерный массив А, состоящий из положительных и\n",
    "отрицательных чисел. Из массива A выберите все отрицательные элементы и\n",
    "запишите их в одномерный массив B."
   ]
  },
  {
   "cell_type": "code",
   "execution_count": 25,
   "metadata": {},
   "outputs": [
    {
     "name": "stdout",
     "output_type": "stream",
     "text": [
      "[[-8 -3  1 -1]\n",
      " [ 3 -9 -8  7]\n",
      " [ 2 -1 -8 -3]]\n",
      "[-8 -3 -1 -9 -8 -1 -8 -3]\n"
     ]
    }
   ],
   "source": [
    "A = np.random.randint(-10, 10, (3, 4))\n",
    "B = A[A < 0]\n",
    "print(A)\n",
    "print(B)"
   ]
  }
 ],
 "metadata": {
  "kernelspec": {
   "display_name": "Python 3.8.10 64-bit",
   "language": "python",
   "name": "python3"
  },
  "language_info": {
   "codemirror_mode": {
    "name": "ipython",
    "version": 3
   },
   "file_extension": ".py",
   "mimetype": "text/x-python",
   "name": "python",
   "nbconvert_exporter": "python",
   "pygments_lexer": "ipython3",
   "version": "3.8.10"
  },
  "orig_nbformat": 4,
  "vscode": {
   "interpreter": {
    "hash": "916dbcbb3f70747c44a77c7bcd40155683ae19c65e1c03b4aa3499c5328201f1"
   }
  }
 },
 "nbformat": 4,
 "nbformat_minor": 2
}
