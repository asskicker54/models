{
 "cells": [
  {
   "cell_type": "markdown",
   "metadata": {},
   "source": [
    "1. Дана строка, состоящая ровно из двух слов, разделенных пробелом.\n",
    "Переставьте эти слова местами. Результат запишите в строку и выведите\n",
    "получившуюся строку."
   ]
  },
  {
   "cell_type": "code",
   "execution_count": null,
   "metadata": {},
   "outputs": [],
   "source": [
    "s = \"asd sdf\"\n",
    "t = s.split(' ')\n",
    "print(t[::-1])"
   ]
  },
  {
   "cell_type": "markdown",
   "metadata": {},
   "source": [
    "2. Дан список чисел, введенный с клавиатуры (числа вводятся через пробел).\n",
    "Определите, сколько в нем встречается различных чисел."
   ]
  },
  {
   "cell_type": "code",
   "execution_count": 3,
   "metadata": {},
   "outputs": [
    {
     "name": "stdout",
     "output_type": "stream",
     "text": [
      "{'1': 2, '2': 1, '3': 3, '4': 2, '5': 1}\n"
     ]
    }
   ],
   "source": [
    "s = input()\n",
    "a = s.split(' ')\n",
    "\n",
    "count = dict()\n",
    "\n",
    "for _ in a:\n",
    "    if _ not in count:\n",
    "        count.update({_:1})\n",
    "    else:\n",
    "        count.update({_:count[_] + 1})\n",
    "\n",
    "print(count)\n",
    "\n"
   ]
  },
  {
   "cell_type": "markdown",
   "metadata": {},
   "source": [
    "3. Пользователь вводит слово. Проверьте является ли это слово словомперевертышем. Перевертыши (палиндромы) – слова, которые одинаково\n",
    "читаются слева направо и справа налево."
   ]
  },
  {
   "cell_type": "code",
   "execution_count": 6,
   "metadata": {},
   "outputs": [
    {
     "name": "stdout",
     "output_type": "stream",
     "text": [
      "y\n"
     ]
    }
   ],
   "source": [
    "word = input()\n",
    "\n",
    "if word == word[::-1]:\n",
    "    print('y')\n",
    "else: \n",
    "    print('n')"
   ]
  },
  {
   "cell_type": "markdown",
   "metadata": {},
   "source": [
    "4. Пользователь вводит с клавиатуры произвольное количество чисел (вводить\n",
    "можно через пробел как в задании №2 или считывать числа в цикле, пока не\n",
    "будет введено слово «stop»). Программа должна вернуть пользователю сумму\n",
    "введенных им чисел."
   ]
  },
  {
   "cell_type": "code",
   "execution_count": 10,
   "metadata": {},
   "outputs": [
    {
     "name": "stdout",
     "output_type": "stream",
     "text": [
      "15\n"
     ]
    }
   ],
   "source": [
    "s = input().split(' ')\n",
    "count = 0\n",
    "for _ in s:\n",
    "    count += int(_)\n",
    "print(count)\n"
   ]
  },
  {
   "cell_type": "markdown",
   "metadata": {},
   "source": [
    "5. Дано число, введенное с клавиатуры. Определите сумму квадратов\n",
    "нечетных цифр в числе."
   ]
  },
  {
   "cell_type": "code",
   "execution_count": 23,
   "metadata": {},
   "outputs": [
    {
     "name": "stdout",
     "output_type": "stream",
     "text": [
      "25\n"
     ]
    }
   ],
   "source": [
    "s = list(map(int, input()))\n",
    "count = 0\n",
    "\n",
    "for _ in s:\n",
    "    if _ % 2 != 0:\n",
    "        count += _**2\n",
    "\n",
    "print(count)\n"
   ]
  },
  {
   "cell_type": "markdown",
   "metadata": {},
   "source": [
    "6. Рассмотрим строки, состоящие только из заглавных английских букв.\n",
    "Например, рассмотрим строку AAAABCCCCCDDDD. Длина этой строки\n",
    "равна 14. Поскольку строка состоит только из английских букв,\n",
    "повторяющиеся символы могут быть удалены и заменены числами,\n",
    "определяющими количество повторений. Таким образом, данная строка может\n",
    "быть представлена как 4AB5C4D. Длина такой строки 7. Описанный метод мы\n",
    "назовем упаковкой строки. Напишите программу, которая берет упакованную\n",
    "строчку и восстанавливает по ней исходную строку. Каждый символ\n",
    "повторяется не более 9 раз. Максимальная длина строки не превышает 80\n",
    "(проверку делать не нужно, данное ограничение просто нужно иметь ввиду и\n",
    "не вводить строку более чем из 80 символов)."
   ]
  },
  {
   "cell_type": "code",
   "execution_count": 5,
   "metadata": {},
   "outputs": [
    {
     "name": "stdout",
     "output_type": "stream",
     "text": [
      "aaaabcccccdddd\n"
     ]
    }
   ],
   "source": [
    "s = list(map(str, input()))\n",
    "line = ''\n",
    "t = 1\n",
    "for i in s:\n",
    "    if i.isalpha():\n",
    "        line += i * t\n",
    "        t = 1\n",
    "    else:\n",
    "        t = int(i)\n",
    "    \n",
    "\n",
    "print(line)\n"
   ]
  },
  {
   "cell_type": "markdown",
   "metadata": {},
   "source": [
    "7. Напишите функцию, которая генерирует пароль (случайным образом). \n",
    "Количество символов в пароле задает пользователь. Для решения данной \n",
    "задачи можно воспользоваться модулем random, функций\n",
    "random.choice(sequence), которая возвращает случайный элемент непустой \n",
    "последовательности sequence (можно в качестве последовательности \n",
    "использовать список)."
   ]
  },
  {
   "cell_type": "code",
   "execution_count": 7,
   "metadata": {},
   "outputs": [
    {
     "name": "stdout",
     "output_type": "stream",
     "text": [
      "74187\n"
     ]
    }
   ],
   "source": [
    "import random\n",
    "seq = ['1', '2', '3', '4', '5', '6', '7', '8', '9', '0']\n",
    "lenght = int(input())\n",
    "password = ''\n",
    "for i in range(lenght):\n",
    "    password += random.choice(seq)\n",
    "\n",
    "print(password)"
   ]
  }
 ],
 "metadata": {
  "kernelspec": {
   "display_name": "Python 3.8.10 64-bit",
   "language": "python",
   "name": "python3"
  },
  "language_info": {
   "codemirror_mode": {
    "name": "ipython",
    "version": 3
   },
   "file_extension": ".py",
   "mimetype": "text/x-python",
   "name": "python",
   "nbconvert_exporter": "python",
   "pygments_lexer": "ipython3",
   "version": "3.8.10"
  },
  "orig_nbformat": 4,
  "vscode": {
   "interpreter": {
    "hash": "916dbcbb3f70747c44a77c7bcd40155683ae19c65e1c03b4aa3499c5328201f1"
   }
  }
 },
 "nbformat": 4,
 "nbformat_minor": 2
}
